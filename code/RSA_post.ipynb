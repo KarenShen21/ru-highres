{
 "cells": [
  {
   "cell_type": "code",
   "execution_count": null,
   "metadata": {},
   "outputs": [],
   "source": [
    "%matplotlib inline\n",
    "import os\n",
    "import glob\n",
    "import numpy as np\n",
    "import pandas as pd\n",
    "import matplotlib.pyplot as plt\n",
    "import seaborn as sns\n",
    "from nltools.data import Brain_Data, Adjacency\n",
    "from nltools.mask import expand_mask, roi_to_brain\n",
    "from nltools.stats import fdr, threshold, fisher_r_to_z, one_sample_permutation\n",
    "from sklearn.metrics import pairwise_distances\n",
    "from nilearn.plotting import plot_glass_brain, plot_stat_map, view_img_on_surf, view_img\n",
    "from nilearn.image import concat_imgs\n",
    "from nilearn.image import load_img\n",
    "from nilearn.image import resample_to_img"
   ]
  },
  {
   "cell_type": "code",
   "execution_count": null,
   "metadata": {},
   "outputs": [],
   "source": [
    "subjects = [105,106,107,108,109,111,112,113,114,115,116,117,118,119,120,121,122,123,124]"
   ]
  },
  {
   "cell_type": "code",
   "execution_count": null,
   "metadata": {},
   "outputs": [],
   "source": [
    "# M1\n",
    "condition = [\"feedback_1\",\"feedback_2\",\"feedback_3\",\"feedback_4\",\"feedback_D\",\"feedback_K\",\"feedback_X\",\"feedback_Z\"]\n",
    "M1 = np.zeros((len(condition),len(condition)))\n",
    "M1[np.diag_indices(len(condition))] = 1\n",
    "M1[0,1] = 1\n",
    "M1[0,2] = 1\n",
    "M1[0,3] = 1\n",
    "M1[1,2] = 1\n",
    "M1[1,3] = 1\n",
    "M1[2,3] = 1\n",
    "M1 = Adjacency(M1, matrix_type = 'distance', labels = condition)\n",
    "M1.plot()"
   ]
  },
  {
   "cell_type": "code",
   "execution_count": null,
   "metadata": {},
   "outputs": [],
   "source": [
    "# M2\n",
    "M2 = np.zeros((len(condition),len(condition)))\n",
    "M2[np.diag_indices(len(condition))] = 1\n",
    "M2[4,5] = 1\n",
    "M2[4,6] = 1\n",
    "M2[4,7] = 1\n",
    "M2[5,6] = 1\n",
    "M2[5,7] = 1\n",
    "M2[6,7] = 1\n",
    "M2 = Adjacency(M2, matrix_type = 'distance', labels = condition)\n",
    "M2.plot()"
   ]
  },
  {
   "cell_type": "code",
   "execution_count": null,
   "metadata": {},
   "outputs": [],
   "source": [
    "# M3\n",
    "M3 = np.zeros((len(condition),len(condition)))\n",
    "M3[np.diag_indices(len(condition))] = 1\n",
    "M3[4,5] = 1\n",
    "M3[4,6] = 1\n",
    "M3[4,7] = 1\n",
    "M3[5,6] = 1\n",
    "M3[5,7] = 1\n",
    "M3[6,7] = 1\n",
    "M3[0,1] = 1\n",
    "M3[0,2] = 1\n",
    "M3[0,3] = 1\n",
    "M3[1,2] = 1\n",
    "M3[1,3] = 1\n",
    "M3[2,3] = 1\n",
    "M3 = Adjacency(M3, matrix_type = 'distance', labels = condition)\n",
    "M3.plot()"
   ]
  },
  {
   "cell_type": "code",
   "execution_count": null,
   "metadata": {},
   "outputs": [],
   "source": [
    "mask_path1 = '/data/projects/ru-highres/masks/a_hpc.nii.gz'\n",
    "template = load_img('/data/projects/ru-highres/masks/bg_image.nii')\n",
    "resampled_roi1 = resample_to_img(mask_path1,template)\n",
    "print(resampled_roi1.shape)\n",
    "mask1 = Brain_Data(resampled_roi1)\n",
    "mask1 = mask1.threshold(upper = 0.95, binarize=True, coerce_nan=True)\n",
    "mask1.plot()\n",
    "plot_glass_brain(mask1.to_nifti())"
   ]
  },
  {
   "cell_type": "code",
   "execution_count": null,
   "metadata": {},
   "outputs": [],
   "source": [
    "mask_path2 = '/data/projects/ru-highres/masks/p_hpc.nii.gz'\n",
    "template = load_img('/data/projects/ru-highres/masks/bg_image.nii')\n",
    "resampled_roi2 = resample_to_img(mask_path2,template)\n",
    "mask2 = Brain_Data(resampled_roi2)\n",
    "mask2 = mask2.threshold(upper = 0.95, binarize=True, coerce_nan=True)\n",
    "mask2.plot()\n",
    "plot_glass_brain(mask2.to_nifti())"
   ]
  },
  {
   "cell_type": "code",
   "execution_count": null,
   "metadata": {},
   "outputs": [],
   "source": [
    "mask_path3 = '/data/projects/ru-highres/masks/executive_7sub.nii.gz'\n",
    "template = load_img('/data/projects/ru-highres/masks/bg_image.nii')\n",
    "resampled_roi3 = resample_to_img(mask_path3,template)\n",
    "mask3 = Brain_Data(resampled_roi3)\n",
    "mask3 = mask3.threshold(upper = 0.95, binarize=True, coerce_nan=True)\n",
    "mask3.plot()\n",
    "plot_glass_brain(mask3.to_nifti())"
   ]
  },
  {
   "cell_type": "code",
   "execution_count": null,
   "metadata": {},
   "outputs": [],
   "source": [
    "mask_path4 = '/data/projects/ru-highres/masks/limbic_7sub.nii.gz'\n",
    "template = load_img('/data/projects/ru-highres/masks/bg_image.nii')\n",
    "resampled_roi4 = resample_to_img(mask_path4,template)\n",
    "mask4 = Brain_Data(resampled_roi4)\n",
    "mask4 = mask4.threshold(upper = 0.95, binarize=True, coerce_nan=True)\n",
    "mask4.plot()\n",
    "plot_glass_brain(mask4.to_nifti())"
   ]
  },
  {
   "cell_type": "code",
   "execution_count": null,
   "metadata": {},
   "outputs": [],
   "source": [
    "datapath = '/data/projects/ru-highres/derivatives/fsl/'\n",
    "\n",
    "for m in [mask1,mask2,mask3,mask4]:\n",
    "    print(m)\n",
    "    feedback_pattern = []\n",
    "    for sub in subjects:\n",
    "        # create a list of beta maps per condition\n",
    "        file_list9 = [os.path.join(datapath,\"sub-\"+str(sub),\"L2_task-aff_model-01.gfeat\",\"cope1.feat\",\"stats\",\"zstat1.nii.gz\"),\n",
    "                     os.path.join(datapath,\"sub-\"+str(sub),\"L2_task-aff_model-01.gfeat\",\"cope2.feat\",\"stats\",\"zstat1.nii.gz\"),\n",
    "                     os.path.join(datapath,\"sub-\"+str(sub),\"L2_task-aff_model-01.gfeat\",\"cope3.feat\",\"stats\",\"zstat1.nii.gz\"),\n",
    "                     os.path.join(datapath,\"sub-\"+str(sub),\"L2_task-aff_model-01.gfeat\",\"cope4.feat\",\"stats\",\"zstat1.nii.gz\"),\n",
    "                     os.path.join(datapath,\"sub-\"+str(sub),\"L2_task-inf_model-03_subj.gfeat\",\"cope1.feat\",\"stats\",\"zstat1.nii.gz\"),\n",
    "                     os.path.join(datapath,\"sub-\"+str(sub),\"L2_task-inf_model-03_subj.gfeat\",\"cope2.feat\",\"stats\",\"zstat1.nii.gz\"),\n",
    "                     os.path.join(datapath,\"sub-\"+str(sub),\"L2_task-inf_model-03_subj.gfeat\",\"cope3.feat\",\"stats\",\"zstat1.nii.gz\"),\n",
    "                     os.path.join(datapath,\"sub-\"+str(sub),\"L2_task-inf_model-03_subj.gfeat\",\"cope4.feat\",\"stats\",\"zstat1.nii.gz\")]\n",
    "\n",
    "\n",
    "        # put all the beta maps into a Brain_Data object\n",
    "        beta = Brain_Data(file_list9)\n",
    "\n",
    "        # compute pairwise correlation between each betamap's masked area\n",
    "        sub_pattern_similarity = 1- beta.apply_mask(m).distance(metric = 'correlation')\n",
    "        sub_pattern_similarity.labels = [\"aff_1\",\"aff_2\",\"aff_3\",\"aff_4\",\"inf_1\",\"inf_2\",\"inf_3\",\"inf_4\"]\n",
    "        feedback_pattern.append(sub_pattern_similarity)\n",
    "             \n",
    "    feedback_avg = Adjacency(feedback_pattern).mean(axis = 0)\n",
    "    feedback_avg.labels =[\"aff_1\",\"aff_2\",\"aff_3\",\"aff_4\",\"inf_1\",\"inf_2\",\"inf_3\",\"inf_4\"]\n",
    "    feedback_avg.plot()\n",
    "\n",
    "\n",
    "    #correlate two matrices\n",
    "    cross_task1 = feedback_avg.similarity(M1, metric = 'spearman', n_permute = 0,ignore_diagonal=True)\n",
    "    cross_task_r1 = cross_task1['correlation']\n",
    "    print(cross_task_r1)\n",
    "    \n",
    "    cross_task2 = feedback_avg.similarity(M2, metric = 'spearman', n_permute = 0, ignore_diagonal=True)\n",
    "    cross_task_r2 = cross_task2['correlation']\n",
    "    print(cross_task_r2)\n",
    "    \n",
    "    cross_task3 = feedback_avg.similarity(M3, metric = 'spearman', n_permute = 0, ignore_diagonal=True)\n",
    "    cross_task_r3 = cross_task3['correlation']\n",
    "    print(cross_task_r3)\n",
    "    \n"
   ]
  }
 ],
 "metadata": {
  "kernelspec": {
   "display_name": "Python 3",
   "language": "python",
   "name": "python3"
  },
  "language_info": {
   "codemirror_mode": {
    "name": "ipython",
    "version": 3
   },
   "file_extension": ".py",
   "mimetype": "text/x-python",
   "name": "python",
   "nbconvert_exporter": "python",
   "pygments_lexer": "ipython3",
   "version": "3.8.5"
  }
 },
 "nbformat": 4,
 "nbformat_minor": 4
}
